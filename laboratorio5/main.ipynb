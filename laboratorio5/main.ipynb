{
 "cells": [
  {
   "cell_type": "code",
   "execution_count": 1,
   "metadata": {},
   "outputs": [],
   "source": [
    "import pandas as pd\n",
    "import json\n",
    "from pandas import json_normalize\n"
   ]
  },
  {
   "cell_type": "code",
   "execution_count": 6,
   "metadata": {},
   "outputs": [
    {
     "data": {
      "text/plain": [
       "746909"
      ]
     },
     "execution_count": 6,
     "metadata": {},
     "output_type": "execute_result"
    }
   ],
   "source": [
    "\n",
    "file_path = 'large_eve.json'\n",
    "with open(file_path, 'r') as file:\n",
    "    data = [json.loads(line) for line in file]\n",
    "\n",
    "\n",
    "total_records = len(data)\n",
    "total_records\n"
   ]
  },
  {
   "cell_type": "code",
   "execution_count": 12,
   "metadata": {},
   "outputs": [
    {
     "name": "stdout",
     "output_type": "stream",
     "text": [
      "Cantidad de registros DNS: 15749\n"
     ]
    }
   ],
   "source": [
    "dns_records = [record for record in data if record.get('event_type') == 'dns']\n",
    "\n",
    "print(f\"Cantidad de registros DNS: {len(dns_records)}\")"
   ]
  },
  {
   "cell_type": "code",
   "execution_count": 13,
   "metadata": {},
   "outputs": [
    {
     "name": "stdout",
     "output_type": "stream",
     "text": [
      "Dos registros DNS aleatorios:\n",
      "[\n",
      "    {\n",
      "        \"timestamp\": \"2017-07-22T17:33:16.661646-0500\",\n",
      "        \"flow_id\": 1327836194150542,\n",
      "        \"pcap_cnt\": 22269,\n",
      "        \"event_type\": \"dns\",\n",
      "        \"vlan\": 110,\n",
      "        \"src_ip\": \"2001:0dbb:0c18:0011:0260:6eff:fe30:0863\",\n",
      "        \"src_port\": 59680,\n",
      "        \"dest_ip\": \"2001:0500:0001:0000:0000:0000:803f:0235\",\n",
      "        \"dest_port\": 53,\n",
      "        \"proto\": \"UDP\",\n",
      "        \"dns\": {\n",
      "            \"type\": \"query\",\n",
      "            \"id\": 15529,\n",
      "            \"rrname\": \"api.wunderground.com\",\n",
      "            \"rrtype\": \"A\",\n",
      "            \"tx_id\": 0\n",
      "        }\n",
      "    },\n",
      "    {\n",
      "        \"timestamp\": \"2017-07-22T17:33:24.990320-0500\",\n",
      "        \"flow_id\": 2022925111925872,\n",
      "        \"pcap_cnt\": 54352,\n",
      "        \"event_type\": \"dns\",\n",
      "        \"vlan\": 110,\n",
      "        \"src_ip\": \"2001:0dbb:0c18:0011:0260:6eff:fe30:0863\",\n",
      "        \"src_port\": 38051,\n",
      "        \"dest_ip\": \"2001:0500:0003:0000:0000:0000:0000:0042\",\n",
      "        \"dest_port\": 53,\n",
      "        \"proto\": \"UDP\",\n",
      "        \"dns\": {\n",
      "            \"type\": \"query\",\n",
      "            \"id\": 58278,\n",
      "            \"rrname\": \"stork79.dropbox.com\",\n",
      "            \"rrtype\": \"A\",\n",
      "            \"tx_id\": 0\n",
      "        }\n",
      "    }\n",
      "]\n"
     ]
    }
   ],
   "source": [
    "print(\"Dos registros DNS aleatorios:\")\n",
    "print(json.dumps(dns_records[:2], indent=4))\n"
   ]
  },
  {
   "cell_type": "code",
   "execution_count": 14,
   "metadata": {},
   "outputs": [
    {
     "name": "stdout",
     "output_type": "stream",
     "text": [
      "Forma del DataFrame: (15749, 18)\n"
     ]
    }
   ],
   "source": [
    "df_dns = json_normalize(dns_records)\n",
    "print(f\"Forma del DataFrame: {df_dns.shape}\")"
   ]
  },
  {
   "cell_type": "code",
   "execution_count": 15,
   "metadata": {},
   "outputs": [
    {
     "name": "stdout",
     "output_type": "stream",
     "text": [
      "Registros tipo A: 2849\n"
     ]
    }
   ],
   "source": [
    "df_dns_a = df_dns[df_dns['dns.rrtype'] == 'A']\n",
    "print(f\"Registros tipo A: {len(df_dns_a)}\") "
   ]
  },
  {
   "cell_type": "code",
   "execution_count": 16,
   "metadata": {},
   "outputs": [
    {
     "name": "stdout",
     "output_type": "stream",
     "text": [
      "Dominios únicos tipo A: 177\n"
     ]
    }
   ],
   "source": [
    "unique_domains = df_dns_a['dns.rrname'].unique()\n",
    "print(f\"Dominios únicos tipo A: {len(unique_domains)}\")"
   ]
  },
  {
   "cell_type": "code",
   "execution_count": 17,
   "metadata": {},
   "outputs": [],
   "source": [
    "def get_tld(domain):\n",
    "    parts = domain.split('.')\n",
    "    return '.'.join(parts[-2:]) if len(parts) > 1 else domain\n"
   ]
  },
  {
   "cell_type": "code",
   "execution_count": 39,
   "metadata": {},
   "outputs": [
    {
     "name": "stdout",
     "output_type": "stream",
     "text": [
      "         domain_tld\n",
      "0  wunderground.com\n",
      "1       dropbox.com\n",
      "2         aoltw.net\n",
      "6          com.home\n",
      "9       mozilla.com\n"
     ]
    },
    {
     "name": "stderr",
     "output_type": "stream",
     "text": [
      "C:\\Users\\alegu\\AppData\\Local\\Temp\\ipykernel_17876\\912900931.py:1: SettingWithCopyWarning: \n",
      "A value is trying to be set on a copy of a slice from a DataFrame.\n",
      "Try using .loc[row_indexer,col_indexer] = value instead\n",
      "\n",
      "See the caveats in the documentation: https://pandas.pydata.org/pandas-docs/stable/user_guide/indexing.html#returning-a-view-versus-a-copy\n",
      "  df_dns_a['domain_tld'] = df_dns_a['dns.rrname'].apply(get_tld)\n"
     ]
    }
   ],
   "source": [
    "df_dns_a['domain_tld'] = df_dns_a['dns.rrname'].apply(get_tld)\n",
    "df_tld = df_dns_a[['domain_tld']].drop_duplicates()\n",
    "\n",
    "print(df_tld.head()) "
   ]
  }
 ],
 "metadata": {
  "kernelspec": {
   "display_name": "Python 3",
   "language": "python",
   "name": "python3"
  },
  "language_info": {
   "codemirror_mode": {
    "name": "ipython",
    "version": 3
   },
   "file_extension": ".py",
   "mimetype": "text/x-python",
   "name": "python",
   "nbconvert_exporter": "python",
   "pygments_lexer": "ipython3",
   "version": "3.12.2"
  }
 },
 "nbformat": 4,
 "nbformat_minor": 2
}
