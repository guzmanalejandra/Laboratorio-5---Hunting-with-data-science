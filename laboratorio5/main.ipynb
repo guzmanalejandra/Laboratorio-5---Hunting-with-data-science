{
 "cells": [
  {
   "cell_type": "code",
   "execution_count": 14,
   "metadata": {},
   "outputs": [],
   "source": [
    "import pandas as pd\n",
    "import json\n",
    "from pandas import json_normalize\n",
    "from clasificador import *\n"
   ]
  },
  {
   "cell_type": "code",
   "execution_count": 4,
   "metadata": {},
   "outputs": [
    {
     "data": {
      "text/plain": [
       "746909"
      ]
     },
     "execution_count": 4,
     "metadata": {},
     "output_type": "execute_result"
    }
   ],
   "source": [
    "\n",
    "file_path = 'large_eve.json'\n",
    "with open(file_path, 'r') as file:\n",
    "    data = [json.loads(line) for line in file]\n",
    "\n",
    "\n",
    "total_records = len(data)\n",
    "total_records\n"
   ]
  },
  {
   "cell_type": "code",
   "execution_count": 5,
   "metadata": {},
   "outputs": [
    {
     "name": "stdout",
     "output_type": "stream",
     "text": [
      "Cantidad de registros DNS: 15749\n"
     ]
    }
   ],
   "source": [
    "dns_records = [record for record in data if record.get('event_type') == 'dns']\n",
    "\n",
    "print(f\"Cantidad de registros DNS: {len(dns_records)}\")"
   ]
  },
  {
   "cell_type": "code",
   "execution_count": 6,
   "metadata": {},
   "outputs": [
    {
     "name": "stdout",
     "output_type": "stream",
     "text": [
      "Dos registros DNS aleatorios:\n",
      "[\n",
      "    {\n",
      "        \"timestamp\": \"2017-07-22T17:33:16.661646-0500\",\n",
      "        \"flow_id\": 1327836194150542,\n",
      "        \"pcap_cnt\": 22269,\n",
      "        \"event_type\": \"dns\",\n",
      "        \"vlan\": 110,\n",
      "        \"src_ip\": \"2001:0dbb:0c18:0011:0260:6eff:fe30:0863\",\n",
      "        \"src_port\": 59680,\n",
      "        \"dest_ip\": \"2001:0500:0001:0000:0000:0000:803f:0235\",\n",
      "        \"dest_port\": 53,\n",
      "        \"proto\": \"UDP\",\n",
      "        \"dns\": {\n",
      "            \"type\": \"query\",\n",
      "            \"id\": 15529,\n",
      "            \"rrname\": \"api.wunderground.com\",\n",
      "            \"rrtype\": \"A\",\n",
      "            \"tx_id\": 0\n",
      "        }\n",
      "    },\n",
      "    {\n",
      "        \"timestamp\": \"2017-07-22T17:33:24.990320-0500\",\n",
      "        \"flow_id\": 2022925111925872,\n",
      "        \"pcap_cnt\": 54352,\n",
      "        \"event_type\": \"dns\",\n",
      "        \"vlan\": 110,\n",
      "        \"src_ip\": \"2001:0dbb:0c18:0011:0260:6eff:fe30:0863\",\n",
      "        \"src_port\": 38051,\n",
      "        \"dest_ip\": \"2001:0500:0003:0000:0000:0000:0000:0042\",\n",
      "        \"dest_port\": 53,\n",
      "        \"proto\": \"UDP\",\n",
      "        \"dns\": {\n",
      "            \"type\": \"query\",\n",
      "            \"id\": 58278,\n",
      "            \"rrname\": \"stork79.dropbox.com\",\n",
      "            \"rrtype\": \"A\",\n",
      "            \"tx_id\": 0\n",
      "        }\n",
      "    }\n",
      "]\n"
     ]
    }
   ],
   "source": [
    "print(\"Dos registros DNS aleatorios:\")\n",
    "print(json.dumps(dns_records[:2], indent=4))\n"
   ]
  },
  {
   "cell_type": "code",
   "execution_count": 7,
   "metadata": {},
   "outputs": [
    {
     "name": "stdout",
     "output_type": "stream",
     "text": [
      "Forma del DataFrame: (15749, 18)\n"
     ]
    },
    {
     "data": {
      "text/html": [
       "<div>\n",
       "<style scoped>\n",
       "    .dataframe tbody tr th:only-of-type {\n",
       "        vertical-align: middle;\n",
       "    }\n",
       "\n",
       "    .dataframe tbody tr th {\n",
       "        vertical-align: top;\n",
       "    }\n",
       "\n",
       "    .dataframe thead th {\n",
       "        text-align: right;\n",
       "    }\n",
       "</style>\n",
       "<table border=\"1\" class=\"dataframe\">\n",
       "  <thead>\n",
       "    <tr style=\"text-align: right;\">\n",
       "      <th></th>\n",
       "      <th>timestamp</th>\n",
       "      <th>flow_id</th>\n",
       "      <th>pcap_cnt</th>\n",
       "      <th>event_type</th>\n",
       "      <th>vlan</th>\n",
       "      <th>src_ip</th>\n",
       "      <th>src_port</th>\n",
       "      <th>dest_ip</th>\n",
       "      <th>dest_port</th>\n",
       "      <th>proto</th>\n",
       "      <th>dns.type</th>\n",
       "      <th>dns.id</th>\n",
       "      <th>dns.rrname</th>\n",
       "      <th>dns.rrtype</th>\n",
       "      <th>dns.tx_id</th>\n",
       "      <th>dns.rcode</th>\n",
       "      <th>dns.ttl</th>\n",
       "      <th>dns.rdata</th>\n",
       "    </tr>\n",
       "  </thead>\n",
       "  <tbody>\n",
       "    <tr>\n",
       "      <th>0</th>\n",
       "      <td>2017-07-22T17:33:16.661646-0500</td>\n",
       "      <td>1327836194150542</td>\n",
       "      <td>22269</td>\n",
       "      <td>dns</td>\n",
       "      <td>110</td>\n",
       "      <td>2001:0dbb:0c18:0011:0260:6eff:fe30:0863</td>\n",
       "      <td>59680</td>\n",
       "      <td>2001:0500:0001:0000:0000:0000:803f:0235</td>\n",
       "      <td>53</td>\n",
       "      <td>UDP</td>\n",
       "      <td>query</td>\n",
       "      <td>15529</td>\n",
       "      <td>api.wunderground.com</td>\n",
       "      <td>A</td>\n",
       "      <td>0.0</td>\n",
       "      <td>NaN</td>\n",
       "      <td>NaN</td>\n",
       "      <td>NaN</td>\n",
       "    </tr>\n",
       "    <tr>\n",
       "      <th>1</th>\n",
       "      <td>2017-07-22T17:33:24.990320-0500</td>\n",
       "      <td>2022925111925872</td>\n",
       "      <td>54352</td>\n",
       "      <td>dns</td>\n",
       "      <td>110</td>\n",
       "      <td>2001:0dbb:0c18:0011:0260:6eff:fe30:0863</td>\n",
       "      <td>38051</td>\n",
       "      <td>2001:0500:0003:0000:0000:0000:0000:0042</td>\n",
       "      <td>53</td>\n",
       "      <td>UDP</td>\n",
       "      <td>query</td>\n",
       "      <td>58278</td>\n",
       "      <td>stork79.dropbox.com</td>\n",
       "      <td>A</td>\n",
       "      <td>0.0</td>\n",
       "      <td>NaN</td>\n",
       "      <td>NaN</td>\n",
       "      <td>NaN</td>\n",
       "    </tr>\n",
       "    <tr>\n",
       "      <th>2</th>\n",
       "      <td>2017-07-22T17:33:27.379891-0500</td>\n",
       "      <td>578544790391795</td>\n",
       "      <td>54519</td>\n",
       "      <td>dns</td>\n",
       "      <td>150</td>\n",
       "      <td>192.168.205.170</td>\n",
       "      <td>31393</td>\n",
       "      <td>192.168.207.4</td>\n",
       "      <td>53</td>\n",
       "      <td>UDP</td>\n",
       "      <td>query</td>\n",
       "      <td>54724</td>\n",
       "      <td>hpca-tier2.office.aol.com.ad.aol.aoltw.net</td>\n",
       "      <td>A</td>\n",
       "      <td>0.0</td>\n",
       "      <td>NaN</td>\n",
       "      <td>NaN</td>\n",
       "      <td>NaN</td>\n",
       "    </tr>\n",
       "    <tr>\n",
       "      <th>3</th>\n",
       "      <td>2017-07-22T17:33:27.380146-0500</td>\n",
       "      <td>578544790391795</td>\n",
       "      <td>54520</td>\n",
       "      <td>dns</td>\n",
       "      <td>150</td>\n",
       "      <td>192.168.207.4</td>\n",
       "      <td>53</td>\n",
       "      <td>192.168.205.170</td>\n",
       "      <td>31393</td>\n",
       "      <td>UDP</td>\n",
       "      <td>answer</td>\n",
       "      <td>54724</td>\n",
       "      <td>hpca-tier2.office.aol.com.ad.aol.aoltw.net</td>\n",
       "      <td>NaN</td>\n",
       "      <td>NaN</td>\n",
       "      <td>NXDOMAIN</td>\n",
       "      <td>NaN</td>\n",
       "      <td>NaN</td>\n",
       "    </tr>\n",
       "    <tr>\n",
       "      <th>4</th>\n",
       "      <td>2017-07-22T17:33:27.380146-0500</td>\n",
       "      <td>578544790391795</td>\n",
       "      <td>54520</td>\n",
       "      <td>dns</td>\n",
       "      <td>150</td>\n",
       "      <td>192.168.207.4</td>\n",
       "      <td>53</td>\n",
       "      <td>192.168.205.170</td>\n",
       "      <td>31393</td>\n",
       "      <td>UDP</td>\n",
       "      <td>answer</td>\n",
       "      <td>54724</td>\n",
       "      <td>&lt;root&gt;</td>\n",
       "      <td>SOA</td>\n",
       "      <td>NaN</td>\n",
       "      <td>NXDOMAIN</td>\n",
       "      <td>20864.0</td>\n",
       "      <td>NaN</td>\n",
       "    </tr>\n",
       "  </tbody>\n",
       "</table>\n",
       "</div>"
      ],
      "text/plain": [
       "                         timestamp           flow_id  pcap_cnt event_type  \\\n",
       "0  2017-07-22T17:33:16.661646-0500  1327836194150542     22269        dns   \n",
       "1  2017-07-22T17:33:24.990320-0500  2022925111925872     54352        dns   \n",
       "2  2017-07-22T17:33:27.379891-0500   578544790391795     54519        dns   \n",
       "3  2017-07-22T17:33:27.380146-0500   578544790391795     54520        dns   \n",
       "4  2017-07-22T17:33:27.380146-0500   578544790391795     54520        dns   \n",
       "\n",
       "   vlan                                   src_ip  src_port  \\\n",
       "0   110  2001:0dbb:0c18:0011:0260:6eff:fe30:0863     59680   \n",
       "1   110  2001:0dbb:0c18:0011:0260:6eff:fe30:0863     38051   \n",
       "2   150                          192.168.205.170     31393   \n",
       "3   150                            192.168.207.4        53   \n",
       "4   150                            192.168.207.4        53   \n",
       "\n",
       "                                   dest_ip  dest_port proto dns.type  dns.id  \\\n",
       "0  2001:0500:0001:0000:0000:0000:803f:0235         53   UDP    query   15529   \n",
       "1  2001:0500:0003:0000:0000:0000:0000:0042         53   UDP    query   58278   \n",
       "2                            192.168.207.4         53   UDP    query   54724   \n",
       "3                          192.168.205.170      31393   UDP   answer   54724   \n",
       "4                          192.168.205.170      31393   UDP   answer   54724   \n",
       "\n",
       "                                   dns.rrname dns.rrtype  dns.tx_id dns.rcode  \\\n",
       "0                        api.wunderground.com          A        0.0       NaN   \n",
       "1                         stork79.dropbox.com          A        0.0       NaN   \n",
       "2  hpca-tier2.office.aol.com.ad.aol.aoltw.net          A        0.0       NaN   \n",
       "3  hpca-tier2.office.aol.com.ad.aol.aoltw.net        NaN        NaN  NXDOMAIN   \n",
       "4                                      <root>        SOA        NaN  NXDOMAIN   \n",
       "\n",
       "   dns.ttl dns.rdata  \n",
       "0      NaN       NaN  \n",
       "1      NaN       NaN  \n",
       "2      NaN       NaN  \n",
       "3      NaN       NaN  \n",
       "4  20864.0       NaN  "
      ]
     },
     "execution_count": 7,
     "metadata": {},
     "output_type": "execute_result"
    }
   ],
   "source": [
    "df_dns = json_normalize(dns_records)\n",
    "print(f\"Forma del DataFrame: {df_dns.shape}\")\n",
    "df_dns.head()"
   ]
  },
  {
   "cell_type": "code",
   "execution_count": 8,
   "metadata": {},
   "outputs": [
    {
     "name": "stdout",
     "output_type": "stream",
     "text": [
      "Registros tipo A: 2849\n"
     ]
    }
   ],
   "source": [
    "df_dns_a = df_dns[df_dns['dns.rrtype'] == 'A']\n",
    "print(f\"Registros tipo A: {len(df_dns_a)}\") "
   ]
  },
  {
   "cell_type": "code",
   "execution_count": 9,
   "metadata": {},
   "outputs": [
    {
     "name": "stdout",
     "output_type": "stream",
     "text": [
      "Dominios únicos tipo A: 177\n"
     ]
    }
   ],
   "source": [
    "unique_domains = df_dns_a['dns.rrname'].unique()\n",
    "print(f\"Dominios únicos tipo A: {len(unique_domains)}\")"
   ]
  },
  {
   "cell_type": "code",
   "execution_count": 10,
   "metadata": {},
   "outputs": [
    {
     "name": "stdout",
     "output_type": "stream",
     "text": [
      "wunderground.com\n",
      "home\n"
     ]
    }
   ],
   "source": [
    "import tldextract\n",
    "\n",
    "def obtener_tld(domain):\n",
    "\n",
    "    resultado = tldextract.extract(domain)\n",
    "    tld = resultado.domain\n",
    "    \n",
    "    if resultado.suffix:\n",
    "        tld += '.' + resultado.suffix\n",
    "\n",
    "    return tld\n",
    "\n",
    "print(obtener_tld(\"api.wunderground.com\"))  \n",
    "print(obtener_tld(\"safebrowsing.clients.google.com.home\")) "
   ]
  },
  {
   "cell_type": "code",
   "execution_count": 11,
   "metadata": {},
   "outputs": [
    {
     "data": {
      "text/html": [
       "<div>\n",
       "<style scoped>\n",
       "    .dataframe tbody tr th:only-of-type {\n",
       "        vertical-align: middle;\n",
       "    }\n",
       "\n",
       "    .dataframe tbody tr th {\n",
       "        vertical-align: top;\n",
       "    }\n",
       "\n",
       "    .dataframe thead th {\n",
       "        text-align: right;\n",
       "    }\n",
       "</style>\n",
       "<table border=\"1\" class=\"dataframe\">\n",
       "  <thead>\n",
       "    <tr style=\"text-align: right;\">\n",
       "      <th></th>\n",
       "      <th>domain_tld</th>\n",
       "    </tr>\n",
       "  </thead>\n",
       "  <tbody>\n",
       "    <tr>\n",
       "      <th>0</th>\n",
       "      <td>wunderground.com</td>\n",
       "    </tr>\n",
       "    <tr>\n",
       "      <th>1</th>\n",
       "      <td>dropbox.com</td>\n",
       "    </tr>\n",
       "    <tr>\n",
       "      <th>2</th>\n",
       "      <td>aoltw.net</td>\n",
       "    </tr>\n",
       "    <tr>\n",
       "      <th>3</th>\n",
       "      <td>home</td>\n",
       "    </tr>\n",
       "    <tr>\n",
       "      <th>4</th>\n",
       "      <td>mozilla.com</td>\n",
       "    </tr>\n",
       "  </tbody>\n",
       "</table>\n",
       "</div>"
      ],
      "text/plain": [
       "         domain_tld\n",
       "0  wunderground.com\n",
       "1       dropbox.com\n",
       "2         aoltw.net\n",
       "3              home\n",
       "4       mozilla.com"
      ]
     },
     "execution_count": 11,
     "metadata": {},
     "output_type": "execute_result"
    }
   ],
   "source": [
    "tlds = [obtener_tld(domain) for domain in unique_domains]\n",
    "\n",
    "tlds_df = pd.DataFrame(tlds, columns=['domain_tld'])\n",
    "tlds_df.head()"
   ]
  },
  {
   "cell_type": "code",
   "execution_count": 16,
   "metadata": {},
   "outputs": [
    {
     "name": "stdout",
     "output_type": "stream",
     "text": [
      "Current scikit-learn version: 1.4.1.post1\n",
      "Error loading the pickle file: node array from the pickle has an incompatible dtype:\n",
      "- expected: {'names': ['left_child', 'right_child', 'feature', 'threshold', 'impurity', 'n_node_samples', 'weighted_n_node_samples', 'missing_go_to_left'], 'formats': ['<i8', '<i8', '<i8', '<f8', '<f8', '<i8', '<f8', 'u1'], 'offsets': [0, 8, 16, 24, 32, 40, 48, 56], 'itemsize': 64}\n",
      "- got     : [('left_child', '<i8'), ('right_child', '<i8'), ('feature', '<i8'), ('threshold', '<f8'), ('impurity', '<f8'), ('n_node_samples', '<i8'), ('weighted_n_node_samples', '<f8')]\n"
     ]
    }
   ],
   "source": [
    "import pickle\n",
    "import sklearn\n",
    "\n",
    "\n",
    "print(\"Current scikit-learn version:\", sklearn.__version__)\n",
    "\n",
    "Pkl_Filename = \"Pickle_RL_Model.pkl\"\n",
    "\n",
    "try:\n",
    "    with open(Pkl_Filename, 'rb') as file:\n",
    "        Pickled_LR_Model = pickle.load(file)\n",
    "except ValueError as e:\n",
    "    print(\"Error loading the pickle file:\", e)"
   ]
  },
  {
   "cell_type": "code",
   "execution_count": 22,
   "metadata": {},
   "outputs": [
    {
     "ename": "ValueError",
     "evalue": "node array from the pickle has an incompatible dtype:\n- expected: {'names': ['left_child', 'right_child', 'feature', 'threshold', 'impurity', 'n_node_samples', 'weighted_n_node_samples', 'missing_go_to_left'], 'formats': ['<i8', '<i8', '<i8', '<f8', '<f8', '<i8', '<f8', 'u1'], 'offsets': [0, 8, 16, 24, 32, 40, 48, 56], 'itemsize': 64}\n- got     : [('left_child', '<i8'), ('right_child', '<i8'), ('feature', '<i8'), ('threshold', '<f8'), ('impurity', '<f8'), ('n_node_samples', '<i8'), ('weighted_n_node_samples', '<f8')]",
     "output_type": "error",
     "traceback": [
      "\u001b[1;31m---------------------------------------------------------------------------\u001b[0m",
      "\u001b[1;31mValueError\u001b[0m                                Traceback (most recent call last)",
      "Cell \u001b[1;32mIn[22], line 1\u001b[0m\n\u001b[1;32m----> 1\u001b[0m df \u001b[38;5;241m=\u001b[39m \u001b[43mclasificacion\u001b[49m\u001b[43m(\u001b[49m\u001b[43mtlds_df\u001b[49m\u001b[43m)\u001b[49m\n\u001b[0;32m      2\u001b[0m df\u001b[38;5;241m.\u001b[39mhead()\n",
      "File \u001b[1;32mc:\\Users\\alegu\\Laboratorio-5---Hunting-with-data-science-2\\laboratorio5\\clasificador.py:136\u001b[0m, in \u001b[0;36mclasificacion\u001b[1;34m(dataframe)\u001b[0m\n\u001b[0;32m    133\u001b[0m Pkl_Filename \u001b[38;5;241m=\u001b[39m \u001b[38;5;124m\"\u001b[39m\u001b[38;5;124mPickle_RL_Model.pkl\u001b[39m\u001b[38;5;124m\"\u001b[39m  \n\u001b[0;32m    135\u001b[0m \u001b[38;5;28;01mwith\u001b[39;00m \u001b[38;5;28mopen\u001b[39m(Pkl_Filename, \u001b[38;5;124m'\u001b[39m\u001b[38;5;124mrb\u001b[39m\u001b[38;5;124m'\u001b[39m) \u001b[38;5;28;01mas\u001b[39;00m file:  \n\u001b[1;32m--> 136\u001b[0m     Pickled_LR_Model \u001b[38;5;241m=\u001b[39m \u001b[43mpickle\u001b[49m\u001b[38;5;241;43m.\u001b[39;49m\u001b[43mload\u001b[49m\u001b[43m(\u001b[49m\u001b[43mfile\u001b[49m\u001b[43m)\u001b[49m\n\u001b[0;32m    138\u001b[0m prediccion \u001b[38;5;241m=\u001b[39m Pickled_LR_Model\u001b[38;5;241m.\u001b[39mpredict(df_final)\n\u001b[0;32m    140\u001b[0m df_final[\u001b[38;5;124m'\u001b[39m\u001b[38;5;124mdomain_tld\u001b[39m\u001b[38;5;124m'\u001b[39m] \u001b[38;5;241m=\u001b[39m df_domain\n",
      "File \u001b[1;32msklearn\\\\tree\\\\_tree.pyx:865\u001b[0m, in \u001b[0;36msklearn.tree._tree.Tree.__setstate__\u001b[1;34m()\u001b[0m\n",
      "File \u001b[1;32msklearn\\\\tree\\\\_tree.pyx:1571\u001b[0m, in \u001b[0;36msklearn.tree._tree._check_node_ndarray\u001b[1;34m()\u001b[0m\n",
      "\u001b[1;31mValueError\u001b[0m: node array from the pickle has an incompatible dtype:\n- expected: {'names': ['left_child', 'right_child', 'feature', 'threshold', 'impurity', 'n_node_samples', 'weighted_n_node_samples', 'missing_go_to_left'], 'formats': ['<i8', '<i8', '<i8', '<f8', '<f8', '<i8', '<f8', 'u1'], 'offsets': [0, 8, 16, 24, 32, 40, 48, 56], 'itemsize': 64}\n- got     : [('left_child', '<i8'), ('right_child', '<i8'), ('feature', '<i8'), ('threshold', '<f8'), ('impurity', '<f8'), ('n_node_samples', '<i8'), ('weighted_n_node_samples', '<f8')]"
     ]
    }
   ],
   "source": [
    "df = clasificacion(tlds_df)\n",
    "df.head()"
   ]
  }
 ],
 "metadata": {
  "kernelspec": {
   "display_name": "Python 3",
   "language": "python",
   "name": "python3"
  },
  "language_info": {
   "codemirror_mode": {
    "name": "ipython",
    "version": 3
   },
   "file_extension": ".py",
   "mimetype": "text/x-python",
   "name": "python",
   "nbconvert_exporter": "python",
   "pygments_lexer": "ipython3",
   "version": "3.12.2"
  }
 },
 "nbformat": 4,
 "nbformat_minor": 2
}
